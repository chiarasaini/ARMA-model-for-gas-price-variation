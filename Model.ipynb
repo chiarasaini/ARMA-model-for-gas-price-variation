{
  "cells": [
    {
      "cell_type": "markdown",
      "source": [
        "# Creation of data frame"
      ],
      "metadata": {
        "id": "172bjan8uRQC"
      }
    },
    {
      "cell_type": "code",
      "execution_count": 96,
      "metadata": {
        "id": "vFB4UgyoZFEM"
      },
      "outputs": [],
      "source": [
        "import pandas as pd\n",
        "import numpy as np\n",
        "import matplotlib.pyplot as plt\n",
        "%matplotlib inline\n",
        "\n",
        "# Import Statsmodels\n",
        "from statsmodels.tsa.api import VAR\n",
        "from statsmodels.tsa.stattools import adfuller\n",
        "from statsmodels.tools.eval_measures import rmse, aic"
      ]
    },
    {
      "cell_type": "code",
      "execution_count": 97,
      "metadata": {
        "id": "LbZwBXaXZhoq"
      },
      "outputs": [],
      "source": [
        "df = pd.read_excel('/content/foglio EU.xlsx')"
      ]
    },
    {
      "cell_type": "code",
      "execution_count": 98,
      "metadata": {
        "id": "-BiWmblJZ73A"
      },
      "outputs": [],
      "source": [
        "df.rename(columns={'Unnamed: 0': 'time'}, inplace=True)\n",
        "df = df.set_index('time')"
      ]
    },
    {
      "cell_type": "code",
      "execution_count": null,
      "metadata": {
        "id": "nECbTyqwaAgH"
      },
      "outputs": [],
      "source": [
        "df"
      ]
    },
    {
      "cell_type": "markdown",
      "metadata": {
        "id": "zXHguc6OdnEX"
      },
      "source": [
        "# Visualize the Time Series"
      ]
    },
    {
      "cell_type": "code",
      "execution_count": null,
      "metadata": {
        "id": "kgkgb1hmc5Lb"
      },
      "outputs": [],
      "source": [
        "# Plot\n",
        "fig, axes = plt.subplots(nrows=1, ncols=2, dpi=120, figsize=(10,6))\n",
        "for i, ax in enumerate(axes.flatten()):\n",
        "    data = df[df.columns[i]]\n",
        "    ax.plot(data, color='red', linewidth=1)\n",
        "    # Decorations\n",
        "    ax.set_title(df.columns[i])\n",
        "    ax.xaxis.set_ticks_position('none')\n",
        "    ax.yaxis.set_ticks_position('none')\n",
        "    ax.spines[\"top\"].set_alpha(0)\n",
        "    ax.tick_params(labelsize=6)\n",
        "\n",
        "plt.tight_layout();"
      ]
    },
    {
      "cell_type": "markdown",
      "source": [
        "# ACF PACF "
      ],
      "metadata": {
        "id": "rp6TIghAdWgk"
      }
    },
    {
      "cell_type": "code",
      "source": [
        "from statsmodels.graphics.tsaplots import plot_acf\n",
        "from statsmodels.graphics.tsaplots import plot_pacf"
      ],
      "metadata": {
        "id": "ddJ_I94gbq9f"
      },
      "execution_count": null,
      "outputs": []
    },
    {
      "cell_type": "code",
      "source": [
        "# GAS EU\n",
        "\n",
        "f, ax = plt.subplots(nrows=2, ncols=1)\n",
        "plot_acf(df['gas_eu'],lags=12, ax=ax[0])\n",
        "plot_pacf(df['gas_eu'],lags=12, ax=ax[1], method='ols')\n",
        "\n",
        "ax[1].annotate('Strong correlation at lag = 1', xy=(1, 0.6),  xycoords='data',\n",
        "            xytext=(0.17, 0.75), textcoords='axes fraction',\n",
        "            arrowprops=dict(color='red', shrink=0.05, width=1))\n",
        "\n",
        "plt.tight_layout()\n",
        "plt.show()"
      ],
      "metadata": {
        "id": "o9vsddnOdN1o"
      },
      "execution_count": null,
      "outputs": []
    },
    {
      "cell_type": "code",
      "source": [
        "# HICP EU\n",
        "f, ax = plt.subplots(nrows=2, ncols=1)\n",
        "plot_acf(df['hicp_eu'],lags=12, ax=ax[0])\n",
        "plot_pacf(df['hicp_eu'],lags=12, ax=ax[1], method='ols')\n",
        "\n",
        "ax[1].annotate('Strong correlation at lag = 1', xy=(1, 0.6),  xycoords='data',\n",
        "            xytext=(0.17, 0.75), textcoords='axes fraction',\n",
        "            arrowprops=dict(color='red', shrink=0.05, width=1))\n",
        "\n",
        "plt.tight_layout()\n",
        "plt.show()"
      ],
      "metadata": {
        "id": "JXiY7CFSdcoG"
      },
      "execution_count": null,
      "outputs": []
    },
    {
      "cell_type": "code",
      "source": [
        "# GAS FR\n",
        "\n",
        "#f, ax = plt.subplots(nrows=2, ncols=1)\n",
        "#plot_acf(df['gas_fr'],lags=12, ax=ax[0])\n",
        "#plot_pacf(df['gas_fr'],lags=12, ax=ax[1], method='ols')\n",
        "\n",
        "#ax[1].annotate('Strong correlation at lag = 1', xy=(1, 0.6),  xycoords='data',\n",
        " #           xytext=(0.17, 0.75), textcoords='axes fraction',\n",
        " #           arrowprops=dict(color='red', shrink=0.05, width=1))\n",
        "\n",
        "#plt.tight_layout()\n",
        "#plt.show()"
      ],
      "metadata": {
        "id": "HQ7AOPy0dH8X"
      },
      "execution_count": null,
      "outputs": []
    },
    {
      "cell_type": "code",
      "source": [
        "# GAS IT\n",
        "\n",
        "#f, ax = plt.subplots(nrows=2, ncols=1)\n",
        "#plot_acf(df['gas_it'],lags=12, ax=ax[0])\n",
        "#plot_pacf(df['gas_it'],lags=12, ax=ax[1], method='ols')\n",
        "\n",
        "#ax[1].annotate('Strong correlation at lag = 1', xy=(1, 0.6),  xycoords='data',\n",
        " #           xytext=(0.17, 0.75), textcoords='axes fraction',\n",
        " #           arrowprops=dict(color='red', shrink=0.05, width=1))\n",
        "\n",
        "#plt.tight_layout()\n",
        "#plt.show()"
      ],
      "metadata": {
        "id": "ZZfCQyiJbtf4"
      },
      "execution_count": 102,
      "outputs": []
    },
    {
      "cell_type": "code",
      "source": [
        "# HICP FR\n",
        "#f, ax = plt.subplots(nrows=2, ncols=1)\n",
        "#plot_acf(df['hicp_fr'],lags=12, ax=ax[0])\n",
        "#plot_pacf(df['hicp_fr'],lags=12, ax=ax[1], method='ols')\n",
        "\n",
        "#ax[1].annotate('Strong correlation at lag = 1', xy=(1, 0.6),  xycoords='data',\n",
        " #           xytext=(0.17, 0.75), textcoords='axes fraction',\n",
        " #           arrowprops=dict(color='red', shrink=0.05, width=1))\n",
        "\n",
        "#plt.tight_layout()\n",
        "#plt.show()"
      ],
      "metadata": {
        "id": "ZelpLpSIdcz-"
      },
      "execution_count": null,
      "outputs": []
    },
    {
      "cell_type": "code",
      "source": [
        "# HICP IT\n",
        "#f, ax = plt.subplots(nrows=2, ncols=1)\n",
        "#plot_acf(df['hicp_it'],lags=12, ax=ax[0])\n",
        "#plot_pacf(df['hicp_it'],lags=12, ax=ax[1], method='ols')\n",
        "\n",
        "#ax[1].annotate('Strong correlation at lag = 1', xy=(1, 0.6),  xycoords='data',\n",
        " #           xytext=(0.17, 0.75), textcoords='axes fraction',\n",
        " #           arrowprops=dict(color='red', shrink=0.05, width=1))\n",
        "\n",
        "#plt.tight_layout()\n",
        "#plt.show()"
      ],
      "metadata": {
        "id": "ugYNh0o8dcfT"
      },
      "execution_count": 104,
      "outputs": []
    },
    {
      "cell_type": "code",
      "source": [
        "\n",
        "\n",
        "df = pd.DataFrame(np.random.standard_normal((300,3)))\n",
        "model = VAR(df)\n",
        "results = model.fit()\n",
        "irf = results.irf(10)\n",
        "print(irf.irfs)\n",
        "print(irf.cum_effects)\n"
      ],
      "metadata": {
        "colab": {
          "base_uri": "https://localhost:8080/"
        },
        "id": "rmXdeM0CfKqi",
        "outputId": "52d16db3-f870-4320-a1d4-b6c5fda673d5"
      },
      "execution_count": null,
      "outputs": [
        {
          "output_type": "stream",
          "name": "stdout",
          "text": [
            "[[[ 1.00000000e+00  0.00000000e+00  0.00000000e+00]\n",
            "  [ 0.00000000e+00  1.00000000e+00  0.00000000e+00]\n",
            "  [ 0.00000000e+00  0.00000000e+00  1.00000000e+00]]\n",
            "\n",
            " [[ 1.56315281e-02 -2.30654013e-02  1.20385981e-02]\n",
            "  [ 2.49996973e-02 -1.17668949e-03  6.06904241e-04]\n",
            "  [-4.91619673e-02 -1.41014635e-02 -3.30170442e-02]]\n",
            "\n",
            " [[-9.24124546e-04 -5.03168506e-04 -2.23295731e-04]\n",
            "  [ 3.31529984e-04 -5.83801690e-04  2.80208987e-04]\n",
            "  [ 5.02173852e-04  1.61612219e-03  4.89725799e-04]]\n",
            "\n",
            " [[-1.60468817e-05  2.50561732e-05 -4.05797414e-06]\n",
            "  [-2.31881703e-05 -1.09112756e-05 -5.61482798e-06]\n",
            "  [ 2.41764265e-05 -2.03903659e-05 -9.14299773e-06]]\n",
            "\n",
            " [[ 5.75057453e-07  3.97867805e-07 -4.39929518e-08]\n",
            "  [-3.59209134e-07  6.26860928e-07 -1.00390140e-07]\n",
            "  [ 3.17649271e-07 -4.04716201e-07  5.80550043e-07]]\n",
            "\n",
            " [[ 2.10983815e-08 -1.31117328e-08  8.61687047e-09]\n",
            "  [ 1.49917225e-08  8.96333004e-09 -6.29344171e-10]\n",
            "  [-3.36934212e-08 -1.50370878e-08 -1.55896185e-08]]\n",
            "\n",
            " [[-4.21611710e-10 -5.92724682e-10 -3.84662228e-11]\n",
            "  [ 4.89363868e-10 -3.47462479e-10  2.06698290e-10]\n",
            "  [-1.36185993e-10  1.01468270e-09  9.99754910e-11]]\n",
            "\n",
            " [[-1.95172977e-11  1.09645262e-11 -4.16530010e-12]\n",
            "  [-1.11986463e-11 -1.37932669e-11 -1.14418808e-12]\n",
            "  [ 1.83229733e-11  5.37417366e-13 -4.32456840e-12]]\n",
            "\n",
            " [[ 1.73798995e-13  4.96009289e-13 -9.07805895e-14]\n",
            "  [-4.63628915e-13  2.90666390e-13 -1.05409486e-13]\n",
            "  [ 5.12455635e-13 -3.62276362e-13  3.63693539e-13]]\n",
            "\n",
            " [[ 1.95797783e-14 -3.31225332e-15  5.39063313e-15]\n",
            "  [ 5.20148103e-15  1.18381909e-14 -1.92472587e-15]\n",
            "  [-1.89262246e-14 -1.65223192e-14 -6.05870526e-15]]\n",
            "\n",
            " [[-4.17576043e-17 -5.23733766e-16  5.57200901e-17]\n",
            "  [ 4.71881596e-16 -1.06762671e-16  1.33351947e-16]\n",
            "  [-4.11040922e-16  5.41419216e-16 -3.78321388e-17]]]\n",
            "[[[ 1.00000000e+00  0.00000000e+00  0.00000000e+00]\n",
            "  [ 0.00000000e+00  1.00000000e+00  0.00000000e+00]\n",
            "  [ 0.00000000e+00  0.00000000e+00  1.00000000e+00]]\n",
            "\n",
            " [[ 1.01563153e+00 -2.30654013e-02  1.20385981e-02]\n",
            "  [ 2.49996973e-02  9.98823311e-01  6.06904241e-04]\n",
            "  [-4.91619673e-02 -1.41014635e-02  9.66982956e-01]]\n",
            "\n",
            " [[ 1.01470740e+00 -2.35685698e-02  1.18153024e-02]\n",
            "  [ 2.53312273e-02  9.98239509e-01  8.87113228e-04]\n",
            "  [-4.86597934e-02 -1.24853413e-02  9.67472682e-01]]\n",
            "\n",
            " [[ 1.01469136e+00 -2.35435136e-02  1.18112444e-02]\n",
            "  [ 2.53080391e-02  9.98228598e-01  8.81498400e-04]\n",
            "  [-4.86356170e-02 -1.25057317e-02  9.67463539e-01]]\n",
            "\n",
            " [[ 1.01469193e+00 -2.35431158e-02  1.18112004e-02]\n",
            "  [ 2.53076799e-02  9.98229224e-01  8.81398010e-04]\n",
            "  [-4.86352993e-02 -1.25061364e-02  9.67464119e-01]]\n",
            "\n",
            " [[ 1.01469195e+00 -2.35431289e-02  1.18112091e-02]\n",
            "  [ 2.53076949e-02  9.98229233e-01  8.81397381e-04]\n",
            "  [-4.86353330e-02 -1.25061514e-02  9.67464104e-01]]\n",
            "\n",
            " [[ 1.01469195e+00 -2.35431295e-02  1.18112090e-02]\n",
            "  [ 2.53076954e-02  9.98229233e-01  8.81397587e-04]\n",
            "  [-4.86353332e-02 -1.25061504e-02  9.67464104e-01]]\n",
            "\n",
            " [[ 1.01469195e+00 -2.35431294e-02  1.18112090e-02]\n",
            "  [ 2.53076954e-02  9.98229233e-01  8.81397586e-04]\n",
            "  [-4.86353331e-02 -1.25061504e-02  9.67464104e-01]]\n",
            "\n",
            " [[ 1.01469195e+00 -2.35431294e-02  1.18112090e-02]\n",
            "  [ 2.53076954e-02  9.98229233e-01  8.81397586e-04]\n",
            "  [-4.86353331e-02 -1.25061504e-02  9.67464104e-01]]\n",
            "\n",
            " [[ 1.01469195e+00 -2.35431294e-02  1.18112090e-02]\n",
            "  [ 2.53076954e-02  9.98229233e-01  8.81397586e-04]\n",
            "  [-4.86353331e-02 -1.25061504e-02  9.67464104e-01]]\n",
            "\n",
            " [[ 1.01469195e+00 -2.35431294e-02  1.18112090e-02]\n",
            "  [ 2.53076954e-02  9.98229233e-01  8.81397586e-04]\n",
            "  [-4.86353331e-02 -1.25061504e-02  9.67464104e-01]]]\n"
          ]
        }
      ]
    },
    {
      "cell_type": "markdown",
      "metadata": {
        "id": "xAvOKCjQdsFb"
      },
      "source": [
        "# Testing Causation using Granger’s Causality Test"
      ]
    },
    {
      "cell_type": "code",
      "execution_count": null,
      "metadata": {
        "id": "A9p10RxFdya6"
      },
      "outputs": [],
      "source": [
        "from statsmodels.tsa.stattools import grangercausalitytests\n",
        "maxlag=12\n",
        "test = 'ssr_chi2test'\n",
        "def grangers_causation_matrix(data, variables, test='ssr_chi2test', verbose=False):    \n",
        "    \"\"\"Check Granger Causality of all possible combinations of the Time series.\n",
        "    The rows are the response variable, columns are predictors. The values in the table \n",
        "    are the P-Values. P-Values lesser than the significance level (0.05), implies \n",
        "    the Null Hypothesis that the coefficients of the corresponding past values is \n",
        "    zero, that is, the X does not cause Y can be rejected.\n",
        "\n",
        "    data      : pandas dataframe containing the time series variables\n",
        "    variables : list containing names of the time series variables.\n",
        "    \"\"\"\n",
        "    df = pd.DataFrame(np.zeros((len(variables), len(variables))), columns=variables, index=variables)\n",
        "    for c in df.columns:\n",
        "        for r in df.index:\n",
        "            test_result = grangercausalitytests(data[[r, c]], maxlag=maxlag, verbose=False)\n",
        "            p_values = [round(test_result[i+1][0][test][1],4) for i in range(maxlag)]\n",
        "            if verbose: print(f'Y = {r}, X = {c}, P Values = {p_values}')\n",
        "            min_p_value = np.min(p_values)\n",
        "            df.loc[r, c] = min_p_value\n",
        "    df.columns = [var + '_x' for var in variables]\n",
        "    df.index = [var + '_y' for var in variables]\n",
        "    return df\n",
        "\n",
        "grangers_causation_matrix(df, variables = df.columns)"
      ]
    },
    {
      "cell_type": "markdown",
      "metadata": {
        "id": "gxoY-wsShkPU"
      },
      "source": [
        "# Cointegration Test"
      ]
    },
    {
      "cell_type": "code",
      "execution_count": null,
      "metadata": {
        "id": "SIANB_vohZuT"
      },
      "outputs": [],
      "source": [
        "from statsmodels.tsa.vector_ar.vecm import coint_johansen\n",
        "\n",
        "def cointegration_test(df, alpha=0.05): \n",
        "    \"\"\"Perform Johanson's Cointegration Test and Report Summary\"\"\"\n",
        "    out = coint_johansen(df,-1,5)\n",
        "    d = {'0.90':0, '0.95':1, '0.99':2}\n",
        "    traces = out.lr1\n",
        "    cvts = out.cvt[:, d[str(1-alpha)]]\n",
        "    def adjust(val, length= 6): return str(val).ljust(length)\n",
        "\n",
        "    # Summary\n",
        "    print('Name   ::  Test Stat > C(95%)    =>   Signif  \\n', '--'*20)\n",
        "    for col, trace, cvt in zip(df.columns, traces, cvts):\n",
        "        print(adjust(col), ':: ', adjust(round(trace,2), 9), \">\", adjust(cvt, 8), ' =>  ' , trace > cvt)\n",
        "\n",
        "cointegration_test(df)"
      ]
    },
    {
      "cell_type": "markdown",
      "metadata": {
        "id": "_l4QY5rck92N"
      },
      "source": [
        "# Split the Series into Training and Testing Data"
      ]
    },
    {
      "cell_type": "code",
      "execution_count": null,
      "metadata": {
        "id": "4ZVPjeOxk9-6"
      },
      "outputs": [],
      "source": [
        "df_train, df_test = df[0:-1], df[-1:]\n",
        "\n",
        "# Check size\n",
        "print(df_train.shape)\n",
        "print(df_test.shape)  "
      ]
    },
    {
      "cell_type": "markdown",
      "metadata": {
        "id": "8g2k967VndC_"
      },
      "source": [
        "#Check for Stationarity and Make the Time Series Stationary\n"
      ]
    },
    {
      "cell_type": "code",
      "execution_count": 109,
      "metadata": {
        "id": "fOjys6sDnfWa"
      },
      "outputs": [],
      "source": [
        "def adfuller_test(series, signif=0.05, name='', verbose=False):\n",
        "    \"\"\"Perform ADFuller to test for Stationarity of given series and print report\"\"\"\n",
        "    r = adfuller(series, autolag='AIC')\n",
        "    output = {'test_statistic':round(r[0], 4), 'pvalue':round(r[1], 4), 'n_lags':round(r[2], 4), 'n_obs':r[3]}\n",
        "    p_value = output['pvalue'] \n",
        "    def adjust(val, length= 6): return str(val).ljust(length)\n",
        "\n",
        "    # Print Summary\n",
        "    print(f'    Augmented Dickey-Fuller Test on \"{name}\"', \"\\n   \", '-'*47)\n",
        "    print(f' Null Hypothesis: Data has unit root. Non-Stationary.')\n",
        "    print(f' Significance Level    = {signif}')\n",
        "    print(f' Test Statistic        = {output[\"test_statistic\"]}')\n",
        "    print(f' No. Lags Chosen       = {output[\"n_lags\"]}')\n",
        "\n",
        "    for key,val in r[4].items():\n",
        "        print(f' Critical value {adjust(key)} = {round(val, 3)}')\n",
        "\n",
        "    if p_value <= signif:\n",
        "        print(f\" => P-Value = {p_value}. Rejecting Null Hypothesis.\")\n",
        "        print(f\" => Series is Stationary.\")\n",
        "    else:\n",
        "        print(f\" => P-Value = {p_value}. Weak evidence to reject the Null Hypothesis.\")\n",
        "        print(f\" => Series is Non-Stationary.\")   "
      ]
    },
    {
      "cell_type": "code",
      "execution_count": null,
      "metadata": {
        "id": "_XCMYFvEokBv"
      },
      "outputs": [],
      "source": [
        "for name, column in df_train.iteritems():\n",
        "    adfuller_test(column, name=column.name)\n",
        "    print('\\n')"
      ]
    },
    {
      "cell_type": "markdown",
      "metadata": {
        "id": "3uKvYwRpo_vf"
      },
      "source": [
        "##1st difference"
      ]
    },
    {
      "cell_type": "code",
      "execution_count": 111,
      "metadata": {
        "id": "UKuPl6RaoboD"
      },
      "outputs": [],
      "source": [
        "df_differenced = df_train.diff().dropna()"
      ]
    },
    {
      "cell_type": "code",
      "execution_count": null,
      "metadata": {
        "id": "g19_6cL6pJ9_"
      },
      "outputs": [],
      "source": [
        "for name, column in df_differenced.iteritems():\n",
        "    adfuller_test(column, name=column.name)\n",
        "    print('\\n')"
      ]
    },
    {
      "cell_type": "markdown",
      "source": [
        "## 2nd Difference\n"
      ],
      "metadata": {
        "id": "D2ScfsDuTOgq"
      }
    },
    {
      "cell_type": "code",
      "source": [
        "# Second Differencing\n",
        "#df_differenced = df_differenced.diff().dropna()\n",
        "# ADF Test on each column of 2nd Differences Dataframe\n",
        "#for name, column in df_differenced.iteritems():\n",
        " #   adfuller_test(column, name=column.name)\n",
        " #   print('\\n')"
      ],
      "metadata": {
        "id": "KvlDVhpHw0jT"
      },
      "execution_count": null,
      "outputs": []
    },
    {
      "cell_type": "markdown",
      "metadata": {
        "id": "WALamikYpZuP"
      },
      "source": [
        "#Select the Order (P) of VAR model"
      ]
    },
    {
      "cell_type": "code",
      "execution_count": null,
      "metadata": {
        "id": "GRSwzCgGpeHk"
      },
      "outputs": [],
      "source": [
        "model = VAR(df_differenced)\n",
        "for i in [1,2,3,4,5,6,7,8,9]:\n",
        "    result = model.fit(i)\n",
        "    print('Lag Order =', i)\n",
        "    print('AIC : ', result.aic)\n",
        "    print('BIC : ', result.bic, '\\n')"
      ]
    },
    {
      "cell_type": "markdown",
      "metadata": {
        "id": "7qI7fbK-rMzh"
      },
      "source": [
        "#Train the VAR Model of Selected Order(p)"
      ]
    },
    {
      "cell_type": "code",
      "execution_count": null,
      "metadata": {
        "id": "XTxk8BJErOla"
      },
      "outputs": [],
      "source": [
        "model_fitted = model.fit(3)\n",
        "model_fitted.summary()"
      ]
    },
    {
      "cell_type": "markdown",
      "source": [
        "#Check for Serial Correlation of Residuals (Errors) using Durbin Watson Statistic"
      ],
      "metadata": {
        "id": "bwoM11Xg73g2"
      }
    },
    {
      "cell_type": "code",
      "source": [
        "def adjust(val, length= 10): return str(val).ljust(length)"
      ],
      "metadata": {
        "id": "iZfB6oAL67-Z"
      },
      "execution_count": 115,
      "outputs": []
    },
    {
      "cell_type": "code",
      "source": [
        "from statsmodels.stats.stattools import durbin_watson\n",
        "out = durbin_watson(model_fitted.resid)\n",
        "\n",
        "for col, val in zip(df.columns, out):\n",
        "    print(adjust(col), ':', round(val, 2))"
      ],
      "metadata": {
        "id": "WEEquJij52Av"
      },
      "execution_count": null,
      "outputs": []
    },
    {
      "cell_type": "markdown",
      "source": [
        "#Forecast VAR model using statsmodels"
      ],
      "metadata": {
        "id": "PhPCfcmD8Hkp"
      }
    },
    {
      "cell_type": "code",
      "source": [
        "# Get the lag order\n",
        "lag_order = model_fitted.k_ar\n",
        "print(lag_order) \n",
        "\n",
        "# Input data for forecasting\n",
        "forecast_input = df_differenced.values[-lag_order:]\n",
        "forecast_input\n"
      ],
      "metadata": {
        "id": "u9YyeMXH6K_p"
      },
      "execution_count": null,
      "outputs": []
    },
    {
      "cell_type": "code",
      "source": [
        "fc = model_fitted.forecast(y=forecast_input, steps=1)\n",
        "df_forecast = pd.DataFrame(fc, index=df.index[-1:], columns=df.columns + '_2d')\n",
        "df_forecast"
      ],
      "metadata": {
        "id": "-DFHpnCB8ic-"
      },
      "execution_count": null,
      "outputs": []
    },
    {
      "cell_type": "markdown",
      "source": [
        "#Invert the transformation to get the real forecast"
      ],
      "metadata": {
        "id": "4IJ0Hj978yPO"
      }
    },
    {
      "cell_type": "code",
      "source": [
        "def invert_transformation(df_train, df_forecast, second_diff=False):\n",
        "    \"\"\"Revert back the differencing to get the forecast to original scale.\"\"\"\n",
        "    df_fc = df_forecast.copy()\n",
        "    columns = df_train.columns\n",
        "    for col in columns:        \n",
        "        # Roll back 2nd Diff\n",
        "        if second_diff:\n",
        "            df_fc[str(col)+'_1d'] = (df_train[col].iloc[-1]-df_train[col].iloc[-2]) + df_fc[str(col)+'_2d'].cumsum()\n",
        "        # Roll back 1st Diff\n",
        "        df_fc[str(col)+'_forecast'] = df_train[col].iloc[-1] + df_fc[str(col)+'_1d'].cumsum()\n",
        "    return df_fc"
      ],
      "metadata": {
        "id": "x2wtWUkB8xyW"
      },
      "execution_count": 119,
      "outputs": []
    },
    {
      "cell_type": "code",
      "source": [
        "df_results = invert_transformation(df_train, df_forecast, second_diff=True)        "
      ],
      "metadata": {
        "id": "H3kFKwV_9C2Z"
      },
      "execution_count": 120,
      "outputs": []
    },
    {
      "cell_type": "code",
      "source": [
        "df_results"
      ],
      "metadata": {
        "id": "za9nD71LASKh"
      },
      "execution_count": null,
      "outputs": []
    },
    {
      "cell_type": "code",
      "source": [
        "df_results.loc[:, ['gas_eu_forecast','hicp_eu_forecast']]"
      ],
      "metadata": {
        "id": "5hE4Rc-hAL5m"
      },
      "execution_count": null,
      "outputs": []
    }
  ],
  "metadata": {
    "colab": {
      "name": "Model",
      "provenance": [],
      "collapsed_sections": [
        "gf9-vDcafIy4",
        "OKWkvJN3yQ03",
        "lqbuDqUvyh1j",
        "gxoY-wsShkPU",
        "7qI7fbK-rMzh",
        "vad3zCLQCeTB"
      ]
    },
    "kernelspec": {
      "display_name": "Python 3",
      "name": "python3"
    },
    "language_info": {
      "name": "python"
    }
  },
  "nbformat": 4,
  "nbformat_minor": 0
}